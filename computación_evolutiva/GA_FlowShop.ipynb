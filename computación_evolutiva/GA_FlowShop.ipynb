{
  "nbformat": 4,
  "nbformat_minor": 0,
  "metadata": {
    "colab": {
      "provenance": []
    },
    "kernelspec": {
      "name": "python3",
      "display_name": "Python 3"
    },
    "language_info": {
      "name": "python"
    }
  },
  "cells": [
    {
      "cell_type": "code",
      "execution_count": 1,
      "metadata": {
        "colab": {
          "base_uri": "https://localhost:8080/"
        },
        "id": "g7Xj7iLRMJE4",
        "outputId": "98f6cebe-3fd1-4f7e-be1f-f6f4e357a01e"
      },
      "outputs": [
        {
          "output_type": "stream",
          "name": "stdout",
          "text": [
            "Collecting deap\n",
            "  Downloading deap-1.4.2-cp311-cp311-manylinux_2_5_x86_64.manylinux1_x86_64.manylinux_2_17_x86_64.manylinux2014_x86_64.whl.metadata (13 kB)\n",
            "Requirement already satisfied: numpy in /usr/local/lib/python3.11/dist-packages (from deap) (1.26.4)\n",
            "Downloading deap-1.4.2-cp311-cp311-manylinux_2_5_x86_64.manylinux1_x86_64.manylinux_2_17_x86_64.manylinux2014_x86_64.whl (135 kB)\n",
            "\u001b[2K   \u001b[90m━━━━━━━━━━━━━━━━━━━━━━━━━━━━━━━━━━━━━━━━\u001b[0m \u001b[32m135.4/135.4 kB\u001b[0m \u001b[31m2.5 MB/s\u001b[0m eta \u001b[36m0:00:00\u001b[0m\n",
            "\u001b[?25hInstalling collected packages: deap\n",
            "Successfully installed deap-1.4.2\n"
          ]
        }
      ],
      "source": [
        "%pip install deap"
      ]
    },
    {
      "cell_type": "markdown",
      "source": [
        "Dado NUM_JOBS y NUM_MACHINES (en paralelo) determinar cual es la asignación de jobs a máquinas de tal manera que el procesamiento de los jobs sea el mímino.\n",
        "\n",
        "\n",
        "\n",
        "![flowShop.drawio.png](data:image/png;base64,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)\n",
        "\n",
        "\n",
        "processing_times\n",
        "\n",
        "| Trabajo | Máquina 1 | Máquina 2 |\n",
        "|---------|-----------|-----------|\n",
        "| 1       | 5         | 3         |\n",
        "| 2       | 6         | 7         |\n",
        "| 3       | 8         | 2         |\n",
        "| 4       | 3         | 4         |\n",
        "| 5       | 2         | 8         |\n",
        "| 6       | 1         | 8         |\n",
        "| 7       | 2         | 6         |\n",
        "| 8       | 8         | 3         |\n",
        "| 9       | 3         | 2         |\n",
        "| 10      | 5         | 4         |"
      ],
      "metadata": {
        "id": "owrCJi__QkE_"
      }
    },
    {
      "cell_type": "code",
      "source": [
        "import random\n",
        "from deap import base, creator, tools, algorithms\n",
        "\n",
        "# Definir el problema en términos de DEAP\n",
        "creator.create(\"FitnessMin\", base.Fitness, weights=(-1.0,))  # Minimizar el tiempo total de ejecución\n",
        "creator.create(\"Individual\", list, fitness=creator.FitnessMin)\n",
        "\n",
        "# Parámteros\n",
        "NUM_JOBS = 10\n",
        "NUM_MACHINES = 2\n",
        "\n",
        "# Generar tiempos de procesamiento aleatorios para los trabajos\n",
        "# Cada trabajo tiene un tiempo de procesamiento para cada máquina\n",
        "\n",
        "#processing_times = [[random.randint(1, 10) for _ in range(NUM_MACHINES)] for _ in range(NUM_JOBS)]\n",
        "processing_times = [[5, 3], [6, 7], [8, 2], [3, 4], [2, 8], [1, 8], [2, 6], [8, 3], [3, 2], [5, 4]]\n",
        "\n",
        "# Función para evaluar la solución (tiempo total de ejecución)\n",
        "def evaluate(individual):\n",
        "    machine_times = [0] * NUM_MACHINES  # Inicializar los tiempos de las máquinas\n",
        "    for job, machine in enumerate(individual):\n",
        "        machine_times[machine] += processing_times[job][machine]\n",
        "    return max(machine_times),  # Minimizar el tiempo máximo de cualquier máquina\n",
        "\n",
        "# Función para crear un individuo aleatorio (una asignación de trabajos a máquinas)\n",
        "def create_individual():\n",
        "    return [random.randint(0, NUM_MACHINES - 1) for _ in range(NUM_JOBS)]\n",
        "\n",
        "# Configuración de DEAP\n",
        "toolbox = base.Toolbox()\n",
        "toolbox.register(\"individual\", tools.initIterate, creator.Individual, create_individual)\n",
        "toolbox.register(\"population\", tools.initRepeat, list, toolbox.individual)\n",
        "toolbox.register(\"mate\", tools.cxTwoPoint)  # Cruce de dos puntos\n",
        "toolbox.register(\"mutate\", tools.mutShuffleIndexes, indpb=0.1)  # Mutación\n",
        "toolbox.register(\"select\", tools.selTournament, tournsize=3)  # Selección por torneo\n",
        "toolbox.register(\"evaluate\", evaluate)\n",
        "\n",
        "# Crear una población inicial\n",
        "population = toolbox.population(n=100)\n",
        "\n",
        "# Algoritmo Genético\n",
        "algorithms.eaSimple(population, toolbox, cxpb=0.7, mutpb=0.2, ngen=100, stats=None, halloffame=None, verbose=False)\n",
        "\n",
        "# Obtener el mejor individuo\n",
        "best_individual = tools.selBest(population, 1)[0]\n",
        "print(\"Mejor solución:\", best_individual)\n",
        "print(\"Tiempo total de ejecución:\", evaluate(best_individual)[0])\n"
      ],
      "metadata": {
        "colab": {
          "base_uri": "https://localhost:8080/"
        },
        "id": "53o1aBfnMXPa",
        "outputId": "04e5862f-3cc0-47b7-99d8-66aca48b9b46"
      },
      "execution_count": 13,
      "outputs": [
        {
          "output_type": "stream",
          "name": "stdout",
          "text": [
            "Mejor solución: [1, 0, 1, 0, 0, 0, 0, 1, 1, 1]\n",
            "Tiempo total de ejecución: 14\n"
          ]
        },
        {
          "output_type": "stream",
          "name": "stderr",
          "text": [
            "/usr/local/lib/python3.11/dist-packages/deap/creator.py:185: RuntimeWarning: A class named 'FitnessMin' has already been created and it will be overwritten. Consider deleting previous creation of that class or rename it.\n",
            "  warnings.warn(\"A class named '{0}' has already been created and it \"\n",
            "/usr/local/lib/python3.11/dist-packages/deap/creator.py:185: RuntimeWarning: A class named 'Individual' has already been created and it will be overwritten. Consider deleting previous creation of that class or rename it.\n",
            "  warnings.warn(\"A class named '{0}' has already been created and it \"\n"
          ]
        }
      ]
    }
  ]
}