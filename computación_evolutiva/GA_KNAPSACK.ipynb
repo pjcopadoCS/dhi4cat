{
 "cells": [
  {
   "cell_type": "code",
   "execution_count": null,
   "metadata": {},
   "outputs": [],
   "source": [
    "import random\n",
    "from deap import base, creator, tools, algorithms\n",
    "\n",
    "# Datos del problema (valores, pesos y capacidad del saco)\n",
    "values = [60, 100, 120, 30, 50, 90]\n",
    "weights = [10, 20, 30, 5, 15, 25]\n",
    "capacity = 50\n",
    "n_items = len(values)\n",
    "\n",
    "# Crear la estructura del problema\n",
    "creator.create(\"FitnessMax\", base.Fitness, weights=(1.0,))\n",
    "creator.create(\"Individual\", list, fitness=creator.FitnessMax)\n",
    "\n",
    "toolbox = base.Toolbox()\n",
    "toolbox.register(\"attr_bool\", lambda: random.randint(0, 1))  # Gene binario\n",
    "toolbox.register(\"individual\", tools.initRepeat, creator.Individual, toolbox.attr_bool, n=n_items)\n",
    "toolbox.register(\"population\", tools.initRepeat, list, toolbox.individual)\n",
    "\n",
    "# Función de evaluación\n",
    "def evaluate(individual):\n",
    "    value = sum(ind * val for ind, val in zip(individual, values))\n",
    "    weight = sum(ind * wt for ind, wt in zip(individual, weights))\n",
    "    if weight > capacity:  # Penalizar si excede la capacidad\n",
    "        return 0,\n",
    "    return value,\n",
    "\n",
    "toolbox.register(\"evaluate\", evaluate)\n",
    "toolbox.register(\"mate\", tools.cxTwoPoint)\n",
    "toolbox.register(\"mutate\", tools.mutFlipBit, indpb=0.05)\n",
    "toolbox.register(\"select\", tools.selTournament, tournsize=3)\n",
    "\n",
    "# Algoritmo genético\n",
    "def main():\n",
    "    random.seed(42)\n",
    "    pop = toolbox.population(n=100)\n",
    "    hof = tools.HallOfFame(1)\n",
    "    stats = tools.Statistics(lambda ind: ind.fitness.values)\n",
    "    stats.register(\"avg\", lambda x: sum(x) / len(x))\n",
    "    stats.register(\"max\", max)\n",
    "\n",
    "    pop, log = algorithms.eaSimple(pop, toolbox, cxpb=0.7, mutpb=0.2, ngen=50, stats=stats, halloffame=hof, verbose=True)\n",
    "    return pop, log, hof\n",
    "\n",
    "if __name__ == \"__main__\":\n",
    "    population, logbook, hof = main()\n",
    "    print(\"Mejor solución:\", hof[0])\n",
    "    print(\"Valor máximo:\", evaluate(hof[0])[0])"
   ]
  }
 ],
 "metadata": {
  "language_info": {
   "name": "python"
  }
 },
 "nbformat": 4,
 "nbformat_minor": 2
}
