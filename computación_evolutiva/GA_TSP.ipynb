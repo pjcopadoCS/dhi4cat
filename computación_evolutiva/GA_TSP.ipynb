{
 "cells": [
  {
   "cell_type": "code",
   "execution_count": null,
   "metadata": {},
   "outputs": [],
   "source": [
    "import random\n",
    "from deap import base, creator, tools, algorithms\n",
    "import numpy as np\n",
    "\n",
    "# Coordenadas de las ciudades\n",
    "cities = [(0, 0), (1, 3), (4, 3), (6, 1), (3, 0)]\n",
    "n_cities = len(cities)\n",
    "\n",
    "# Calcular la distancia euclidiana entre dos ciudades\n",
    "def distance(city1, city2):\n",
    "    return np.sqrt((city1[0] - city2[0])**2 + (city1[1] - city2[1])**2)\n",
    "\n",
    "# Crear la estructura del problema\n",
    "creator.create(\"FitnessMin\", base.Fitness, weights=(-1.0,))  # Minimización\n",
    "creator.create(\"Individual\", list, fitness=creator.FitnessMin)\n",
    "\n",
    "toolbox = base.Toolbox()\n",
    "toolbox.register(\"indices\", random.sample, range(n_cities), n_cities)\n",
    "toolbox.register(\"individual\", tools.initIterate, creator.Individual, toolbox.indices)\n",
    "toolbox.register(\"population\", tools.initRepeat, list, toolbox.individual)\n",
    "\n",
    "# Función de evaluación\n",
    "def evaluate(individual):\n",
    "    dist = sum(distance(cities[individual[i]], cities[individual[i + 1]]) for i in range(n_cities - 1))\n",
    "    dist += distance(cities[individual[-1]], cities[individual[0]])  # Volver al inicio\n",
    "    return dist,\n",
    "\n",
    "toolbox.register(\"evaluate\", evaluate)\n",
    "toolbox.register(\"mate\", tools.cxOrdered)\n",
    "toolbox.register(\"mutate\", tools.mutShuffleIndexes, indpb=0.2)\n",
    "toolbox.register(\"select\", tools.selTournament, tournsize=3)\n",
    "\n",
    "# Algoritmo genético\n",
    "def main():\n",
    "    random.seed(42)\n",
    "    pop = toolbox.population(n=100)\n",
    "    hof = tools.HallOfFame(1)\n",
    "    stats = tools.Statistics(lambda ind: ind.fitness.values)\n",
    "    stats.register(\"avg\", np.mean)\n",
    "    stats.register(\"min\", min)\n",
    "\n",
    "    pop, log = algorithms.eaSimple(pop, toolbox, cxpb=0.7, mutpb=0.2, ngen=100, stats=stats, halloffame=hof, verbose=True)\n",
    "    return pop, log, hof\n",
    "\n",
    "if __name__ == \"__main__\":\n",
    "    population, logbook, hof = main()\n",
    "    print(\"Mejor solución:\", hof[0])\n",
    "    print(\"Distancia mínima:\", evaluate(hof[0])[0])\n"
   ]
  }
 ],
 "metadata": {
  "language_info": {
   "name": "python"
  }
 },
 "nbformat": 4,
 "nbformat_minor": 2
}
