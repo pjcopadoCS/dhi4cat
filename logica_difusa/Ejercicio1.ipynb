{
 "cells": [
  {
   "cell_type": "code",
   "execution_count": 11,
   "metadata": {},
   "outputs": [
    {
     "name": "stdout",
     "output_type": "stream",
     "text": [
      "Entrada: Temperatura actual = 40°C, Diferencia = 30°C\n",
      "Salida: Potencia del calentador = 58.21%\n"
     ]
    }
   ],
   "source": [
    "import numpy as np\n",
    "import skfuzzy as fuzz\n",
    "import matplotlib\n",
    "from skfuzzy import control as ctrl\n",
    "\n",
    "# Definición de las variables difusas\n",
    "temperature = ctrl.Antecedent(np.arange(0, 101, 1), 'temperature')  # 0-100°C\n",
    "difference = ctrl.Antecedent(np.arange(0, 51, 1), 'difference')    # 0-50°C\n",
    "power = ctrl.Consequent(np.arange(0, 101, 1), 'power')             # 0-100% de potencia\n",
    "\n",
    "# Funciones de membresía para la temperatura\n",
    "temperature['low'] = fuzz.trimf(temperature.universe, [0, 0, 50])\n",
    "temperature['medium'] = fuzz.trimf(temperature.universe, [30, 50, 70])\n",
    "temperature['high'] = fuzz.trimf(temperature.universe, [50, 100, 100])\n",
    "\n",
    "# Funciones de membresía para la diferencia de temperatura\n",
    "difference['small'] = fuzz.trimf(difference.universe, [0, 0, 25])\n",
    "difference['moderate'] = fuzz.trimf(difference.universe, [10, 25, 40])\n",
    "difference['large'] = fuzz.trimf(difference.universe, [25, 50, 50])\n",
    "\n",
    "# Funciones de membresía para la potencia del calentador\n",
    "power['low'] = fuzz.trimf(power.universe, [0, 0, 50])\n",
    "power['medium'] = fuzz.trimf(power.universe, [25, 50, 75])\n",
    "power['high'] = fuzz.trimf(power.universe, [50, 100, 100])\n",
    "\n",
    "# Reglas difusas\n",
    "rule1 = ctrl.Rule(temperature['low'] & difference['large'], power['high'])\n",
    "rule2 = ctrl.Rule(temperature['medium'] & difference['moderate'], power['medium'])\n",
    "rule3 = ctrl.Rule(temperature['high'] | difference['small'], power['low'])\n",
    "\n",
    "# Sistema de control difuso\n",
    "heating_control = ctrl.ControlSystem([rule1, rule2, rule3])\n",
    "heating_simulation = ctrl.ControlSystemSimulation(heating_control)\n",
    "\n",
    "# Simulación: Entrada de datos\n",
    "input_temperature = 40  # Temperatura actual\n",
    "input_difference = 30   # Diferencia con la temperatura deseada\n",
    "\n",
    "heating_simulation.input['temperature'] = input_temperature\n",
    "heating_simulation.input['difference'] = input_difference\n",
    "\n",
    "# Calcular la salida\n",
    "heating_simulation.compute()\n",
    "output_power = heating_simulation.output['power']\n",
    "\n",
    "# Resultados\n",
    "print(f\"Entrada: Temperatura actual = {input_temperature}°C, Diferencia = {input_difference}°C\")\n",
    "print(f\"Salida: Potencia del calentador = {output_power:.2f}%\")\n",
    "\n",
    "# Visualización de las funciones de membresía y resultados\n",
    "#temperature.view()\n",
    "#difference.view()\n",
    "#power.view(sim=heating_simulation)\n"
   ]
  }
 ],
 "metadata": {
  "kernelspec": {
   "display_name": "fuzzy",
   "language": "python",
   "name": "python3"
  },
  "language_info": {
   "codemirror_mode": {
    "name": "ipython",
    "version": 3
   },
   "file_extension": ".py",
   "mimetype": "text/x-python",
   "name": "python",
   "nbconvert_exporter": "python",
   "pygments_lexer": "ipython3",
   "version": "3.13.1"
  }
 },
 "nbformat": 4,
 "nbformat_minor": 2
}
