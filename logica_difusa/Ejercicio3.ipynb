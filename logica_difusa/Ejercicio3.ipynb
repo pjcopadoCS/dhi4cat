{
 "cells": [
  {
   "cell_type": "code",
   "execution_count": null,
   "metadata": {},
   "outputs": [],
   "source": [
    "import numpy as np\n",
    "import skfuzzy as fuzz\n",
    "from skfuzzy import control as ctrl\n",
    "\n",
    "# Definición de las variables difusas\n",
    "temperature = ctrl.Antecedent(np.arange(0, 41, 1), 'temperature')  # 0-40°C\n",
    "humidity = ctrl.Antecedent(np.arange(0, 101, 1), 'humidity')       # 0-100%\n",
    "fan_speed = ctrl.Consequent(np.arange(0, 101, 1), 'fan_speed')     # 0-100%\n",
    "\n",
    "# Funciones de membresía\n",
    "temperature['low'] = fuzz.trimf(temperature.universe, [0, 0, 20])\n",
    "temperature['medium'] = fuzz.trimf(temperature.universe, [10, 20, 30])\n",
    "temperature['high'] = fuzz.trimf(temperature.universe, [20, 40, 40])\n",
    "\n",
    "humidity['low'] = fuzz.trimf(humidity.universe, [0, 0, 50])\n",
    "humidity['medium'] = fuzz.trimf(humidity.universe, [30, 50, 70])\n",
    "humidity['high'] = fuzz.trimf(humidity.universe, [50, 100, 100])\n",
    "\n",
    "fan_speed['slow'] = fuzz.trimf(fan_speed.universe, [0, 0, 50])\n",
    "fan_speed['moderate'] = fuzz.trimf(fan_speed.universe, [25, 50, 75])\n",
    "fan_speed['fast'] = fuzz.trimf(fan_speed.universe, [50, 100, 100])\n",
    "\n",
    "# Reglas\n",
    "rule1 = ctrl.Rule(temperature['high'] & humidity['high'], fan_speed['fast'])\n",
    "rule2 = ctrl.Rule(temperature['medium'] & humidity['medium'], fan_speed['moderate'])\n",
    "rule3 = ctrl.Rule(temperature['low'] | humidity['low'], fan_speed['slow'])\n",
    "\n",
    "# Sistema difuso\n",
    "fan_control = ctrl.ControlSystem([rule1, rule2, rule3])\n",
    "fan_simulation = ctrl.ControlSystemSimulation(fan_control)\n",
    "\n",
    "# Entrada\n",
    "fan_simulation.input['temperature'] = 28\n",
    "fan_simulation.input['humidity'] = 65\n",
    "\n",
    "# Calcular la salida\n",
    "fan_simulation.compute()\n",
    "output_speed = fan_simulation.output['fan_speed']\n",
    "\n",
    "# Resultados\n",
    "print(f\"Entrada: Temperatura = 28°C, Humedad = 65%\")\n",
    "print(f\"Salida: Velocidad del ventilador = {output_speed:.2f}%\")\n",
    "\n",
    "# Visualización\n",
    "temperature.view()\n",
    "humidity.view()\n",
    "fan_speed.view(sim=fan_simulation)"
   ]
  }
 ],
 "metadata": {
  "language_info": {
   "name": "python"
  }
 },
 "nbformat": 4,
 "nbformat_minor": 2
}
