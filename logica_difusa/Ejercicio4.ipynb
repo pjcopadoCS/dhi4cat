{
 "cells": [
  {
   "cell_type": "code",
   "execution_count": null,
   "metadata": {},
   "outputs": [],
   "source": [
    "# Entrada\n",
    "D = 10  # Distancia al obstáculo (m)\n",
    "V = 60  # Velocidad del vehículo (km/h)\n",
    "\n",
    "# Reglas Takagi-Sugeno\n",
    "F1 = 80 + 0.5 * V - 0.3 * D\n",
    "F2 = 50 + 0.2 * V - 0.1 * D\n",
    "F3 = 20 + 0.1 * V\n",
    "\n",
    "# Membresías\n",
    "mu_cerca = max(0, 1 - D / 15)\n",
    "mu_moderada = max(0, 1 - abs(D - 30) / 15)\n",
    "mu_lejana = max(0, (D - 15) / 15)\n",
    "\n",
    "mu_lenta = max(0, 1 - V / 30)\n",
    "mu_moderada_vel = max(0, 1 - abs(V - 60) / 30)\n",
    "mu_rapida = max(0, (V - 30) / 30)\n",
    "\n",
    "# Evaluación de reglas\n",
    "w1 = mu_cerca * mu_rapida\n",
    "w2 = mu_moderada * mu_moderada_vel\n",
    "w3 = mu_lejana * mu_lenta\n",
    "\n",
    "# Salida final\n",
    "F = (w1 * F1 + w2 * F2 + w3 * F3) / (w1 + w2 + w3)\n",
    "\n",
    "# Resultados\n",
    "print(f\"Entrada: D = {D} m, V = {V} km/h\")\n",
    "print(f\"Salida: Fuerza de frenado = {F:.2f}\")"
   ]
  }
 ],
 "metadata": {
  "language_info": {
   "name": "python"
  }
 },
 "nbformat": 4,
 "nbformat_minor": 2
}
