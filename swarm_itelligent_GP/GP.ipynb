{
 "cells": [
  {
   "cell_type": "code",
   "execution_count": null,
   "metadata": {},
   "outputs": [],
   "source": [
    "% pip3 install pygad"
   ]
  },
  {
   "cell_type": "markdown",
   "metadata": {},
   "source": [
    "1. Symbolic Regression (Function Approximation)\n",
    "\n",
    "This example evolves a mathematical expression to approximate the function y=x2+3x+2y=x2+3x+2."
   ]
  },
  {
   "cell_type": "code",
   "execution_count": null,
   "metadata": {},
   "outputs": [],
   "source": [
    "import pyga\n",
    "import numpy as np\n",
    "\n",
    "# Define the fitness function\n",
    "def fitness_function(individual):\n",
    "    x_values = np.linspace(-10, 10, 100)\n",
    "    y_true = x_values**2 + 3*x_values + 2  # True function\n",
    "\n",
    "    # Convert the individual (tree representation) into an evaluable function\n",
    "    y_pred = np.array([individual.evaluate({'x': x}) for x in x_values])\n",
    "    \n",
    "    # Calculate fitness as the inverse of mean squared error\n",
    "    mse = np.mean((y_true - y_pred) ** 2)\n",
    "    return -mse  # Negative because PyGA maximizes fitness\n",
    "\n",
    "# Create the GP environment\n",
    "gp = pyga.GeneticProgramming(\n",
    "    population_size=100,\n",
    "    max_generations=50,\n",
    "    fitness_function=fitness_function,\n",
    "    terminal_set=['x'],\n",
    "    function_set=['+', '-', '*', '/'],\n",
    "    max_depth=5\n",
    ")\n",
    "\n",
    "# Run the GP algorithm\n",
    "best_individual = gp.run()\n",
    "print(\"Best found function:\", best_individual)\n"
   ]
  },
  {
   "cell_type": "markdown",
   "metadata": {},
   "source": [
    "2. Mathematical Expression Simplification\n",
    "\n",
    "This example simplifies algebraic expressions by evolving more concise forms."
   ]
  },
  {
   "cell_type": "code",
   "execution_count": null,
   "metadata": {},
   "outputs": [],
   "source": [
    "import pyga\n",
    "\n",
    "# Define the fitness function for simplification\n",
    "def fitness_function(individual):\n",
    "    original_expression = \"x*x + 2*x + x*x + 4\"\n",
    "    simplified_target = \"2*x*x + 2*x + 4\"\n",
    "\n",
    "    # Convert the individual into a string representation\n",
    "    expr_str = str(individual)\n",
    "    \n",
    "    # Fitness is the inverse of the expression length difference\n",
    "    return -abs(len(expr_str) - len(simplified_target))\n",
    "\n",
    "# Define the GP environment\n",
    "gp = pyga.GeneticProgramming(\n",
    "    population_size=75,\n",
    "    max_generations=40,\n",
    "    fitness_function=fitness_function,\n",
    "    terminal_set=['x'],\n",
    "    function_set=['+', '-', '*', '/'],\n",
    "    max_depth=6\n",
    ")\n",
    "\n",
    "# Run the GP algorithm\n",
    "best_individual = gp.run()\n",
    "print(\"Best simplified expression:\", best_individual)\n"
   ]
  },
  {
   "cell_type": "markdown",
   "metadata": {},
   "source": []
  },
  {
   "cell_type": "code",
   "execution_count": null,
   "metadata": {},
   "outputs": [],
   "source": []
  }
 ],
 "metadata": {
  "language_info": {
   "name": "python"
  }
 },
 "nbformat": 4,
 "nbformat_minor": 2
}
