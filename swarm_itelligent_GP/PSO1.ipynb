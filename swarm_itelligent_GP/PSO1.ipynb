{
 "cells": [
  {
   "cell_type": "code",
   "execution_count": null,
   "metadata": {},
   "outputs": [],
   "source": [
    "# % pip install pyswarm"
   ]
  },
  {
   "cell_type": "markdown",
   "metadata": {},
   "source": [
    "Minimizar $f(x)=x_{0}^{2}​+x_{1}^{2}​$\n"
   ]
  },
  {
   "cell_type": "code",
   "execution_count": null,
   "metadata": {},
   "outputs": [],
   "source": [
    "from pyswarm import pso\n",
    "\n",
    "# Define the function to minimize\n",
    "def objective_function(x):\n",
    "    return x[0]**2 + x[1]**2  # Simple quadratic function\n",
    "\n",
    "# Define bounds for variables\n",
    "lb = [-10, -10]  # Lower bounds\n",
    "ub = [10, 10]    # Upper bounds\n",
    "\n",
    "# Run PSO\n",
    "best_position, best_value = pso(objective_function, lb, ub)\n",
    "\n",
    "print(\"Best Position:\", best_position)\n",
    "print(\"Best Value:\", best_value)"
   ]
  },
  {
   "cell_type": "markdown",
   "metadata": {},
   "source": [
    "Míma función pero con restricción pero con la siguiente restricción:\n",
    "\n",
    "$x_{0}+x_{1}≥1$"
   ]
  },
  {
   "cell_type": "code",
   "execution_count": null,
   "metadata": {},
   "outputs": [],
   "source": [
    "from pyswarm import pso\n",
    "\n",
    "# Define the function to minimize\n",
    "def objective_function(x):\n",
    "    return x[0]**2 + x[1]**2\n",
    "\n",
    "# Define a constraint (x0 + x1 must be ≥ 1)\n",
    "def constraint(x):\n",
    "    return x[0] + x[1] - 1\n",
    "\n",
    "# Define bounds\n",
    "lb = [-10, -10]\n",
    "ub = [10, 10]\n",
    "\n",
    "# Run PSO with constraint\n",
    "best_position, best_value = pso(objective_function, lb, ub, ieqcons=[constraint])\n",
    "\n",
    "print(\"Best Position:\", best_position)\n",
    "print(\"Best Value:\", best_value)"
   ]
  },
  {
   "cell_type": "markdown",
   "metadata": {},
   "source": [
    "Minimizar la función de Rosenbrock:\n",
    "\n",
    "\n",
    "$f(x)=(1−x_{0})^{2}+100(x_{1}−x_{0}^{2})^{2}$"
   ]
  },
  {
   "cell_type": "code",
   "execution_count": null,
   "metadata": {},
   "outputs": [],
   "source": [
    "from pyswarm import pso\n",
    "\n",
    "# Define the Rosenbrock function\n",
    "def rosenbrock(x):\n",
    "    return (1 - x[0])**2 + 100 * (x[1] - x[0]**2)**2\n",
    "\n",
    "# Define bounds\n",
    "lb = [-2, -2]\n",
    "ub = [2, 2]\n",
    "\n",
    "# Run PSO\n",
    "best_position, best_value = pso(rosenbrock, lb, ub)\n",
    "\n",
    "print(\"Best Position:\", best_position)\n",
    "print(\"Best Value:\", best_value)"
   ]
  }
 ],
 "metadata": {
  "language_info": {
   "name": "python"
  }
 },
 "nbformat": 4,
 "nbformat_minor": 2
}
